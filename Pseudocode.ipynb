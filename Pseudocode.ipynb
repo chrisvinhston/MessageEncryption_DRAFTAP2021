{
 "cells": [
  {
   "cell_type": "code",
   "execution_count": null,
   "metadata": {},
   "outputs": [],
   "source": [
    "\"\"\"\n",
    "function key (generate and load)\n",
    "function to encrypt message \n",
    "function to decrypt message\n",
    "\n",
    "\n",
    "ENCRYPT or DECRYPT?\n",
    "\n",
    "ENCRYPT\n",
    "message = input (\"Enter your message\")\n",
    "=> save encrypted message to csv file (original & encrypted message)\n",
    "=> print out message have been encrypted\n",
    "\n",
    " \n",
    "DECRYPT\n",
    "1. latest message\n",
    "or 2. using encrypted message + key\n",
    "\n",
    "output: print decrypted message.  \n",
    "\"\"\""
   ]
  }
 ],
 "metadata": {
  "kernelspec": {
   "display_name": "Python 3",
   "language": "python",
   "name": "python3"
  },
  "language_info": {
   "codemirror_mode": {
    "name": "ipython",
    "version": 3
   },
   "file_extension": ".py",
   "mimetype": "text/x-python",
   "name": "python",
   "nbconvert_exporter": "python",
   "pygments_lexer": "ipython3",
   "version": "3.8.8"
  }
 },
 "nbformat": 4,
 "nbformat_minor": 4
}
